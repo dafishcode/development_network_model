{
 "cells": [
  {
   "cell_type": "code",
   "execution_count": 2,
   "metadata": {},
   "outputs": [
    {
     "name": "stderr",
     "output_type": "stream",
     "text": [
      "INFO       Cache size for target \"cython\": 5666 MB.\n",
      "You can call \"clear_cache('cython')\" to delete all files from the cache or manually delete files in the \"/Users/dominicburrows/Library/Caches/cython/brian_extensions\" directory. [brian2]\n"
     ]
    },
    {
     "name": "stdout",
     "output_type": "stream",
     "text": [
      "The autoreload extension is already loaded. To reload it, use:\n",
      "  %reload_ext autoreload\n"
     ]
    },
    {
     "data": {
      "text/plain": [
       "'3.7.6 (default, Jan  8 2020, 13:42:34) \\n[Clang 4.0.1 (tags/RELEASE_401/final)]'"
      ]
     },
     "execution_count": 2,
     "metadata": {},
     "output_type": "execute_result"
    }
   ],
   "source": [
    "#Import packages\n",
    "#---------------------------------------\n",
    "import sys\n",
    "import os\n",
    "import pandas as pd\n",
    "from matplotlib import pyplot as plt\n",
    "import numpy as np\n",
    "import matplotlib\n",
    "import warnings\n",
    "import brian2 as b2\n",
    "warnings.filterwarnings(\"ignore\", category=RuntimeWarning) \n",
    "\n",
    "#Import your modules\n",
    "#---------------------------------------\n",
    "import admin_functions as adfn\n",
    "\n",
    "# Define paths\n",
    "#----------------------------------------------------------------------\n",
    "Fcode = '/Users/dominicburrows/Dropbox/PhD/Analysis/my_scripts/GitHub/'\n",
    "Fdata = '/Users/dominicburrows/Dropbox/PhD/analysis/Project/'\n",
    "Fdoc = '/Users/dominicburrows/Documents/'\n",
    "F10t = '/Volumes/Dominic 10tb/Data2process/Project/' \n",
    "F10t2 = '/Volumes/Dominic 10tb2/Data2process/Project/' \n",
    "Ftm = '/Volumes/Dominic Time Machine/'\n",
    "Ffig = '/Users/dominicburrows/Dropbox/PhD/figures/'\n",
    "\n",
    "\n",
    "%load_ext autoreload\n",
    "sys.version"
   ]
  },
  {
   "cell_type": "code",
   "execution_count": null,
   "metadata": {},
   "outputs": [],
   "source": [
    "\"\"\"\n",
    "Run spiking net using Brian2\n",
    "\n",
    "Inputs:\n",
    "    sim_time (float): time steps to run simulation\n",
    "    k (int): number of edges in network\n",
    "    v_th (float): spike threshold \n",
    "    r (float): weight scaling parameter, defining local vs global scaling\n",
    "    s (float): weight scaling parameter, defining overall range \n",
    "    divisor (float): divisor value for scaling function\n",
    "    soften (float): degree of exponential softening for scaling function\n",
    "    N (int): number of neurons in network\n",
    "    dist (np array): distance matrix\n",
    "    v_rest (float): resting membrane potential\n",
    "    t_syn_del (float): synaptic delay\n",
    "    tau_l (float): time constant\n",
    "    N_e (int): number of external neurons\n",
    "    lam (float): Poisson input rate\n",
    "    w_e (float): weight from poisson inputs onto network\n",
    "\n",
    "Returns:\n",
    "    bind (np.array): cells x timepoints, downsampled binarised array of spikes\n",
    "    spikes (np array): cells x timepoints, full binarised array\n",
    "    volt (np array): cells x timepoints, membrane potential\n",
    "\n",
    "\"\"\""
   ]
  },
  {
   "cell_type": "code",
   "execution_count": null,
   "metadata": {},
   "outputs": [],
   "source": [
    "#DYNAMICS\n",
    "\n",
    "#TIME CONSTANTS, LEAKY?, REFRACTORY PERIOD\n",
    "\n",
    "b2.start_scope()\n",
    "\n",
    "#define dynamics for each cell\n",
    "lif =\"\"\"\n",
    "dv/dt = -(v-v_rest) / tau_l : 1 \"\"\"\n",
    "\n",
    "\n",
    "#EXCITATORY \n",
    "net_dyn = b2.NeuronGroup(\n",
    "N, model=lif,\n",
    "threshold=\"v>v_th\", reset=\"v = v_rest\",\n",
    "method=\"euler\")\n",
    "net_dyn.v = v_rest #set starting value for voltage\n",
    "\n",
    "#INHIBITORY - N, TOPOLOGY\n",
    "net_dyn = b2.NeuronGroup(\n",
    "N, model=lif,\n",
    "threshold=\"v>v_th\", reset=\"v = v_rest\",\n",
    "method=\"euler\")\n",
    "net_dyn.v = v_rest #set starting value for voltage\n"
   ]
  },
  {
   "cell_type": "code",
   "execution_count": null,
   "metadata": {},
   "outputs": [],
   "source": [
    "#Inputs\n",
    "\n",
    "#CHANGE OVER TIME\n",
    "\n",
    "p_input = b2.PoissonInput(net_dyn, \"v\", N_e,lam, w_e)\n"
   ]
  },
  {
   "cell_type": "code",
   "execution_count": null,
   "metadata": {},
   "outputs": [],
   "source": [
    "#ARCHITECTURE\n",
    "\n",
    "#EXCITATORY - N, TOPOLOGY, GROWTH?, PLASTICITY\n",
    "#Network connectivity + weights\n",
    "curr = ba_netsim(dist).adjmat_generate(k, s, r, divisor, soften, 'directed')\n",
    "A = curr.A\n",
    "W = curr.adj_mat\n",
    "\n",
    "#Build synapses\n",
    "net_syn = b2.Synapses(net_dyn, net_dyn, 'w:1', on_pre=\"v+=w\", delay=t_syn_del)\n",
    "rows, cols = np.nonzero(A)\n",
    "net_syn.connect(i = rows, j = cols)\n",
    "net_syn.w = W[rows, cols]\n",
    "\n",
    "#INHIBITORY - N, TOPOLOGY, PLASTICITY\n",
    "curr = ba_netsim(dist).adjmat_generate(k, s, r, divisor, soften, 'directed')\n",
    "A = curr.A\n",
    "W = curr.adj_mat\n",
    "\n",
    "#Build synapses\n",
    "net_syn = b2.Synapses(net_dyn, net_dyn, 'w:1', on_pre=\"v+=w\", delay=t_syn_del)\n",
    "rows, cols = np.nonzero(A)\n",
    "net_syn.connect(i = rows, j = cols)\n",
    "net_syn.w = W[rows, cols]\n",
    "\n"
   ]
  },
  {
   "cell_type": "code",
   "execution_count": null,
   "metadata": {},
   "outputs": [],
   "source": [
    "#RUN\n",
    "\n",
    "spike_monitor = b2.SpikeMonitor(net_dyn)\n",
    "V = b2.StateMonitor(net_dyn, 'v', record=True)\n",
    "b2.run(sim_time*b2.ms)\n",
    "spikes = spike_monitor.spike_trains()\n",
    "volt = np.asarray(V.v)\n",
    "bind = bin_data(spikes, N, sim_time)"
   ]
  }
 ],
 "metadata": {
  "kernelspec": {
   "display_name": "Python 3",
   "language": "python",
   "name": "python3"
  },
  "language_info": {
   "codemirror_mode": {
    "name": "ipython",
    "version": 3
   },
   "file_extension": ".py",
   "mimetype": "text/x-python",
   "name": "python",
   "nbconvert_exporter": "python",
   "pygments_lexer": "ipython3",
   "version": "3.7.6"
  }
 },
 "nbformat": 4,
 "nbformat_minor": 4
}
